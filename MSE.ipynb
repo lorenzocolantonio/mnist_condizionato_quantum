{
 "cells": [
  {
   "cell_type": "code",
   "execution_count": null,
   "id": "6dcd8ce8",
   "metadata": {},
   "outputs": [
    {
     "name": "stdout",
     "output_type": "stream",
     "text": [
      "Using device: cpu\n",
      "MNIST dataset already present. Loading...\n",
      "MNIST dataset loaded successfully as torch tensors with corresponding labels!\n",
      "Best model saved!\n",
      "lat_dim=4Epoch: 1/400, Train loss: 0.0470, Test loss: 0.0402, best_loss=0.04 s/epoch=80.4010 tempo previsto=534.6664min\n"
     ]
    }
   ],
   "source": [
    "from torch import optim\n",
    "import matplotlib.pyplot as plt\n",
    "from functions import *\n",
    "from NeuralNetwork import *\n",
    "import time\n",
    "import numpy as np\n",
    "device = which_device()\n",
    "\n",
    "if not os.path.exists(\"Weights/\"): os.makedirs(\"Weights/\")\n",
    "ld_array=np.array([4,8,16,32])\n",
    "train_loader, test_loader = download_and_load_mnist(BATCH_SIZE, shuffle=True)\n",
    "for latent_indx in range(len(ld_array)):\n",
    "    lat_dim=ld_array[latent_indx]\n",
    "\n",
    "    # define autoencoder\n",
    "    encoder = Encoder(lat_dim).to(device)\n",
    "    decoder = Decoder(lat_dim).to(device)\n",
    "\n",
    "    # define loss function and optimizer\n",
    "    critereon = nn.MSELoss()\n",
    "    optimizer = optim.Adam(list(encoder.parameters()) + list(decoder.parameters()), lr=LEARING_RATE)\n",
    "    scheduler = optim.lr_scheduler.ReduceLROnPlateau(optimizer, patience=20, factor = 0.5 , verbose=True)\n",
    "\n",
    "    best_loss = 1e9\n",
    "    losses=[]\n",
    "    # train autoencoder\n",
    "    for epoch in range(1, NUM_EPOCHS + 1):\n",
    "        t0=time.time()\n",
    "\n",
    "        train_loss = train(encoder, decoder, train_loader, critereon, optimizer, device)\n",
    "        test_loss = eval(encoder, decoder, test_loader, critereon, device)\n",
    "        losses.append(train_loss)\n",
    "        # save best model\n",
    "        if test_loss < best_loss:\n",
    "            best_loss = test_loss\n",
    "            torch.save(encoder.state_dict(), f\"Weights/encoder_ld{lat_dim}_MSE.pth\")\n",
    "            torch.save(decoder.state_dict(), f\"Weights/decoder_ld{lat_dim}_MSE.pth\")\n",
    "            print(\"Best model saved!\")\n",
    "        print(f\"lat_dim={lat_dim}Epoch: {epoch}/{NUM_EPOCHS}, Train loss: {train_loss:.4f}, Test loss: {test_loss:.4f}, best_loss={best_loss:.2f} s/epoch={time.time()-t0:.4f} tempo previsto={((time.time()-t0)*(NUM_EPOCHS-epoch))/60:.4f}min\")\n",
    "        plt.plot(losses)\n",
    "        plt.savefig(f'loss_MSE_ld{lat_dim}')\n",
    "        plt.close()\n",
    "        scheduler.step(test_loss)"
   ]
  },
  {
   "cell_type": "code",
   "execution_count": null,
   "id": "cfafb588",
   "metadata": {},
   "outputs": [],
   "source": []
  },
  {
   "cell_type": "code",
   "execution_count": null,
   "id": "bce0af5c",
   "metadata": {},
   "outputs": [],
   "source": []
  },
  {
   "cell_type": "code",
   "execution_count": null,
   "id": "35e0d5c1",
   "metadata": {},
   "outputs": [],
   "source": []
  },
  {
   "cell_type": "code",
   "execution_count": null,
   "id": "4aa36ff0",
   "metadata": {},
   "outputs": [],
   "source": []
  }
 ],
 "metadata": {
  "kernelspec": {
   "display_name": "Python 3",
   "language": "python",
   "name": "python3"
  },
  "language_info": {
   "codemirror_mode": {
    "name": "ipython",
    "version": 3
   },
   "file_extension": ".py",
   "mimetype": "text/x-python",
   "name": "python",
   "nbconvert_exporter": "python",
   "pygments_lexer": "ipython3",
   "version": "3.8.8"
  }
 },
 "nbformat": 4,
 "nbformat_minor": 5
}
